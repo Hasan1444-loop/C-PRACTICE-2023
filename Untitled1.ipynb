{
  "nbformat": 4,
  "nbformat_minor": 0,
  "metadata": {
    "colab": {
      "provenance": [],
      "authorship_tag": "ABX9TyNXEkFKc+fZ9U+GYo6XgS8H",
      "include_colab_link": true
    },
    "kernelspec": {
      "name": "python3",
      "display_name": "Python 3"
    },
    "language_info": {
      "name": "python"
    }
  },
  "cells": [
    {
      "cell_type": "markdown",
      "metadata": {
        "id": "view-in-github",
        "colab_type": "text"
      },
      "source": [
        "<a href=\"https://colab.research.google.com/github/Hasan1444-loop/C-PRACTICE-2023/blob/main/Untitled1.ipynb\" target=\"_parent\"><img src=\"https://colab.research.google.com/assets/colab-badge.svg\" alt=\"Open In Colab\"/></a>"
      ]
    },
    {
      "cell_type": "code",
      "execution_count": 3,
      "metadata": {
        "colab": {
          "base_uri": "https://localhost:8080/"
        },
        "id": "vMHu0PZIReTx",
        "outputId": "a9069f54-9614-49db-f638-91823593ae78"
      },
      "outputs": [
        {
          "output_type": "stream",
          "name": "stdout",
          "text": [
            "books.txt opened successfully.\n",
            "*** MENU ***\n",
            "1) List Books\n",
            "2) Add Book\n",
            "3) Remove Book\n",
            "books.txt closed.\n",
            "Make your choice: 1\n",
            "Book: 1984, Author: George Orwell\n"
          ]
        }
      ],
      "source": [
        "class Library:\n",
        "    def __init__(self, open_books='books.txt'):\n",
        "        self.open_books = open_books\n",
        "        try:\n",
        "            self.books_file = open(self.open_books, 'a+')\n",
        "            print(f\"{self.open_books} opened successfully.\")\n",
        "        except Exception as e:\n",
        "            print(f\"Error opening file: {e}\")\n",
        "\n",
        "    def __del__(self):\n",
        "        try:\n",
        "            if hasattr(self, 'books_file') and self.books_file:\n",
        "                self.books_file.close()\n",
        "                print(f\"{self.open_books} closed.\")\n",
        "        except Exception as e:\n",
        "            print(f\"Error closing file: {e}\")\n",
        "\n",
        "    def list_books(self):\n",
        "        try:\n",
        "            file_contents = self.books_file.read()\n",
        "            book_lines = file_contents.splitlines()\n",
        "            for line in book_lines:\n",
        "                book_info = line.split(', ')\n",
        "                if len(book_info) == 4:\n",
        "                    book_name, author, release_date, num_pages = book_info\n",
        "                    print(f\"Book: {book_name}, Author: {author}\")\n",
        "        except Exception as e:\n",
        "            print(f\"Error listing books: {e}\")\n",
        "\n",
        "    def add_book(self):\n",
        "        try:\n",
        "            book_title = input(\"Input the book title: \")\n",
        "            book_author = input(\"Author of the book: \")\n",
        "            release_year = input(\"Release Date: \")\n",
        "            num_pages = input(\"Number of pages: \")\n",
        "\n",
        "            book_info = f\"{book_title}, {book_author}, {release_year}, {num_pages}\"\n",
        "\n",
        "            self.books_file.write(book_info + '\\n')\n",
        "            print(f\"Book '{book_title}' has been added.\")\n",
        "        except Exception as e:\n",
        "            print(f\"Error adding book: {e}\")\n",
        "\n",
        "    def remove_book(self):\n",
        "        try:\n",
        "            delete_book = input(\"Which book do you want to remove? \")\n",
        "            self.books_file.seek(0)\n",
        "            file_contents = self.books_file.read()\n",
        "            book_lines = file_contents.splitlines()\n",
        "            find_index = -1\n",
        "            for i, line in enumerate(book_lines):\n",
        "                if delete_book in line:\n",
        "                    find_index = i\n",
        "                    break\n",
        "            if find_index != -1:\n",
        "                del book_lines[find_index]\n",
        "                self.books_file.truncate(0)\n",
        "                for line in book_lines:\n",
        "                    self.books_file.write(line + '\\n')\n",
        "\n",
        "                print(f\"Book '{delete_book}' has been removed.\")\n",
        "            else:\n",
        "                print(f\"Book '{delete_book}' not found in the library.\")\n",
        "        except Exception as e:\n",
        "            print(f\"Error removing book: {e}\")\n",
        "\n",
        "# Outside of the class\n",
        "lib = Library()\n",
        "print(\"*** MENU ***\")\n",
        "print(\"1) List Books\")\n",
        "print(\"2) Add Book\")\n",
        "print(\"3) Remove Book\")\n",
        "user_input = input(\"Make your choice: \")\n",
        "\n",
        "if user_input == '1':\n",
        "    lib.list_books()\n",
        "elif user_input == '2':\n",
        "    lib.add_book()\n",
        "elif user_input == '3':\n",
        "    lib.remove_book()\n",
        "else:\n",
        "    print(\"Please select a valid menu option: (1/2/3)\")"
      ]
    }
  ]
}